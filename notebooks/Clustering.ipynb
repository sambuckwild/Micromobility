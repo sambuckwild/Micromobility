{
 "cells": [
  {
   "cell_type": "code",
   "execution_count": 1,
   "metadata": {},
   "outputs": [],
   "source": [
    "import numpy as np\n",
    "import pandas as pd\n",
    "from sklearn.cluster import KMeans\n",
    "from scipy.spatial.distance import pdist, squareform\n",
    "import matplotlib.pyplot as plt\n",
    "from scipy.cluster.hierarchy import linkage, dendrogram\n"
   ]
  },
  {
   "cell_type": "markdown",
   "metadata": {},
   "source": [
    "### Import Data & Apply K-Means"
   ]
  },
  {
   "cell_type": "code",
   "execution_count": 2,
   "metadata": {},
   "outputs": [],
   "source": [
    "scooter_june_pride = pd.read_csv('../data/small_scooter.csv')\n",
    "scooter_june_pride.drop(columns='Unnamed: 0', inplace=True)\n",
    "scooter_june_pride['Start_Time'] = pd.to_datetime(scooter_june_pride['Start_Time'])\n",
    "scooter_june_pride['End_Time'] = pd.to_datetime(scooter_june_pride['End_Time'])"
   ]
  },
  {
   "cell_type": "code",
   "execution_count": null,
   "metadata": {},
   "outputs": [],
   "source": [
    "start_locations = scooter_june_pride[['Start_Centroid_Latitude', 'Start_Centroid_Longitude']]\n",
    "scooter_june_pride['Start_Location'] = start_locations.values.tolist()\n",
    "end_locations = scooter_june_pride[['Start_Centroid_Latitude', 'Start_Centroid_Longitude']]\n",
    "scooter_june_pride['End_Location'] = end_locations.values.tolist()"
   ]
  },
  {
   "cell_type": "code",
   "execution_count": 3,
   "metadata": {},
   "outputs": [
    {
     "data": {
      "text/html": [
       "<div>\n",
       "<style scoped>\n",
       "    .dataframe tbody tr th:only-of-type {\n",
       "        vertical-align: middle;\n",
       "    }\n",
       "\n",
       "    .dataframe tbody tr th {\n",
       "        vertical-align: top;\n",
       "    }\n",
       "\n",
       "    .dataframe thead th {\n",
       "        text-align: right;\n",
       "    }\n",
       "</style>\n",
       "<table border=\"1\" class=\"dataframe\">\n",
       "  <thead>\n",
       "    <tr style=\"text-align: right;\">\n",
       "      <th></th>\n",
       "      <th>Trip_ID</th>\n",
       "      <th>Start_Time</th>\n",
       "      <th>End_Time</th>\n",
       "      <th>Trip_Distance</th>\n",
       "      <th>Trip_Duration</th>\n",
       "      <th>Accuracy</th>\n",
       "      <th>Start_Centroid_Latitude</th>\n",
       "      <th>Start_Centroid_Longitude</th>\n",
       "      <th>End_Centroid_Latitude</th>\n",
       "      <th>End_Centroid_Longitude</th>\n",
       "      <th>Day_of_Week</th>\n",
       "      <th>Time_of_Day</th>\n",
       "    </tr>\n",
       "  </thead>\n",
       "  <tbody>\n",
       "    <tr>\n",
       "      <th>0</th>\n",
       "      <td>11d42b99-e839-346c-11d4-2b99e839346c</td>\n",
       "      <td>2019-06-24 19:00:00</td>\n",
       "      <td>2019-06-24 19:00:00</td>\n",
       "      <td>0.569919</td>\n",
       "      <td>5.983333</td>\n",
       "      <td>10</td>\n",
       "      <td>41.894101</td>\n",
       "      <td>-87.763112</td>\n",
       "      <td>41.894101</td>\n",
       "      <td>-87.763112</td>\n",
       "      <td>0</td>\n",
       "      <td>19</td>\n",
       "    </tr>\n",
       "    <tr>\n",
       "      <th>1</th>\n",
       "      <td>c46c5b1f-d7a1-5c11-96b6-bb8bfa2d4fa3</td>\n",
       "      <td>2019-06-21 18:00:00</td>\n",
       "      <td>2019-06-21 19:00:00</td>\n",
       "      <td>0.469857</td>\n",
       "      <td>46.833333</td>\n",
       "      <td>0</td>\n",
       "      <td>41.953582</td>\n",
       "      <td>-87.723452</td>\n",
       "      <td>41.953582</td>\n",
       "      <td>-87.723452</td>\n",
       "      <td>4</td>\n",
       "      <td>18</td>\n",
       "    </tr>\n",
       "    <tr>\n",
       "      <th>2</th>\n",
       "      <td>3ad30b66-b615-404b-ada2-92cfb30dd32b</td>\n",
       "      <td>2019-06-21 21:00:00</td>\n",
       "      <td>2019-06-21 21:00:00</td>\n",
       "      <td>0.824736</td>\n",
       "      <td>4.000000</td>\n",
       "      <td>152</td>\n",
       "      <td>41.953582</td>\n",
       "      <td>-87.723452</td>\n",
       "      <td>41.953582</td>\n",
       "      <td>-87.723452</td>\n",
       "      <td>4</td>\n",
       "      <td>21</td>\n",
       "    </tr>\n",
       "    <tr>\n",
       "      <th>3</th>\n",
       "      <td>8574e87e-d881-4468-bf79-f7e62f268f4d</td>\n",
       "      <td>2019-06-21 18:00:00</td>\n",
       "      <td>2019-06-21 19:00:00</td>\n",
       "      <td>1.694842</td>\n",
       "      <td>22.416667</td>\n",
       "      <td>10</td>\n",
       "      <td>41.953582</td>\n",
       "      <td>-87.723452</td>\n",
       "      <td>41.953582</td>\n",
       "      <td>-87.723452</td>\n",
       "      <td>4</td>\n",
       "      <td>18</td>\n",
       "    </tr>\n",
       "    <tr>\n",
       "      <th>4</th>\n",
       "      <td>9b79b345-1492-40f4-85a6-fee83c5a6ffc</td>\n",
       "      <td>2019-06-26 18:00:00</td>\n",
       "      <td>2019-06-26 18:00:00</td>\n",
       "      <td>0.991920</td>\n",
       "      <td>5.316667</td>\n",
       "      <td>152</td>\n",
       "      <td>41.953582</td>\n",
       "      <td>-87.723452</td>\n",
       "      <td>41.953582</td>\n",
       "      <td>-87.723452</td>\n",
       "      <td>2</td>\n",
       "      <td>18</td>\n",
       "    </tr>\n",
       "  </tbody>\n",
       "</table>\n",
       "</div>"
      ],
      "text/plain": [
       "                                Trip_ID          Start_Time  \\\n",
       "0  11d42b99-e839-346c-11d4-2b99e839346c 2019-06-24 19:00:00   \n",
       "1  c46c5b1f-d7a1-5c11-96b6-bb8bfa2d4fa3 2019-06-21 18:00:00   \n",
       "2  3ad30b66-b615-404b-ada2-92cfb30dd32b 2019-06-21 21:00:00   \n",
       "3  8574e87e-d881-4468-bf79-f7e62f268f4d 2019-06-21 18:00:00   \n",
       "4  9b79b345-1492-40f4-85a6-fee83c5a6ffc 2019-06-26 18:00:00   \n",
       "\n",
       "             End_Time  Trip_Distance  Trip_Duration  Accuracy  \\\n",
       "0 2019-06-24 19:00:00       0.569919       5.983333        10   \n",
       "1 2019-06-21 19:00:00       0.469857      46.833333         0   \n",
       "2 2019-06-21 21:00:00       0.824736       4.000000       152   \n",
       "3 2019-06-21 19:00:00       1.694842      22.416667        10   \n",
       "4 2019-06-26 18:00:00       0.991920       5.316667       152   \n",
       "\n",
       "   Start_Centroid_Latitude  Start_Centroid_Longitude  End_Centroid_Latitude  \\\n",
       "0                41.894101                -87.763112              41.894101   \n",
       "1                41.953582                -87.723452              41.953582   \n",
       "2                41.953582                -87.723452              41.953582   \n",
       "3                41.953582                -87.723452              41.953582   \n",
       "4                41.953582                -87.723452              41.953582   \n",
       "\n",
       "   End_Centroid_Longitude  Day_of_Week  Time_of_Day  \n",
       "0              -87.763112            0           19  \n",
       "1              -87.723452            4           18  \n",
       "2              -87.723452            4           21  \n",
       "3              -87.723452            4           18  \n",
       "4              -87.723452            2           18  "
      ]
     },
     "execution_count": 3,
     "metadata": {},
     "output_type": "execute_result"
    }
   ],
   "source": [
    "# scooter_june_pride['Day_of_Week_Int'] = scooter_june_pride['Start_Time'].dt.weekday\n",
    "scooter_june_pride['Time_of_Day'] = scooter_june_pride['Start_Time'].dt.hour\n",
    "scooter_june_pride['Day_of_Week'] = scooter_june_pride['Start_Time'].dt.weekday #day_name()\n",
    "scooter_june_pride.head()"
   ]
  },
  {
   "cell_type": "code",
   "execution_count": 4,
   "metadata": {},
   "outputs": [
    {
     "data": {
      "text/plain": [
       "array([[ 41.8941013 , -87.76311182],\n",
       "       [ 41.95358182, -87.72345248],\n",
       "       [ 41.95358182, -87.72345248],\n",
       "       ...,\n",
       "       [ 41.90602339, -87.67531026],\n",
       "       [ 41.90837594, -87.67093749],\n",
       "       [ 41.90120673, -87.67635713]])"
      ]
     },
     "execution_count": 4,
     "metadata": {},
     "output_type": "execute_result"
    }
   ],
   "source": [
    "start_locations = scooter_june_pride[['Start_Centroid_Latitude', 'Start_Centroid_Longitude']]\n",
    "start_location_array = start_locations.to_numpy()\n",
    "start_location_array"
   ]
  },
  {
   "cell_type": "code",
   "execution_count": 5,
   "metadata": {},
   "outputs": [
    {
     "data": {
      "text/plain": [
       "KMeans()"
      ]
     },
     "execution_count": 5,
     "metadata": {},
     "output_type": "execute_result"
    }
   ],
   "source": [
    "kmeans = KMeans()\n",
    "kmeans.fit(start_location_array)"
   ]
  },
  {
   "cell_type": "markdown",
   "metadata": {},
   "source": [
    "#### print centroids"
   ]
  },
  {
   "cell_type": "code",
   "execution_count": null,
   "metadata": {},
   "outputs": [],
   "source": [
    "print(\"\\n2) cluster centers:\")\n",
    "print(kmeans.cluster_centers_)"
   ]
  },
  {
   "cell_type": "markdown",
   "metadata": {},
   "source": [
    "### Scatter Plot of Start Locations"
   ]
  },
  {
   "cell_type": "code",
   "execution_count": null,
   "metadata": {},
   "outputs": [],
   "source": [
    "fig = plt.figure(figsize=(10,6))\n",
    "ax = fig.add_subplot(1,1,1)\n",
    "ax.scatter(start_location_array[:,0], start_location_array[:,1]);"
   ]
  },
  {
   "cell_type": "code",
   "execution_count": 6,
   "metadata": {},
   "outputs": [
    {
     "data": {
      "text/plain": [
       "(58009, 2)"
      ]
     },
     "execution_count": 6,
     "metadata": {},
     "output_type": "execute_result"
    }
   ],
   "source": [
    "end_locations = scooter_june_pride[['End_Centroid_Latitude', 'End_Centroid_Longitude']]\n",
    "end_location_array = end_locations.to_numpy()\n",
    "end_location_array.shape"
   ]
  },
  {
   "cell_type": "code",
   "execution_count": 7,
   "metadata": {},
   "outputs": [
    {
     "data": {
      "text/plain": [
       "KMeans()"
      ]
     },
     "execution_count": 7,
     "metadata": {},
     "output_type": "execute_result"
    }
   ],
   "source": [
    "kmeans_end = KMeans()\n",
    "kmeans_end.fit(end_location_array)"
   ]
  },
  {
   "cell_type": "code",
   "execution_count": null,
   "metadata": {},
   "outputs": [],
   "source": [
    "print(\"\\n2) cluster centers:\")\n",
    "print(kmeans_end.cluster_centers_)"
   ]
  },
  {
   "cell_type": "code",
   "execution_count": null,
   "metadata": {},
   "outputs": [],
   "source": [
    "kmeans.fit(start_location_array)"
   ]
  },
  {
   "cell_type": "code",
   "execution_count": null,
   "metadata": {},
   "outputs": [],
   "source": [
    "print(\"\\n2) cluster centers:\")\n",
    "print(kmeans.cluster_centers_)"
   ]
  },
  {
   "cell_type": "code",
   "execution_count": null,
   "metadata": {},
   "outputs": [],
   "source": [
    "kmeans_end.fit(end_location_array)"
   ]
  },
  {
   "cell_type": "code",
   "execution_count": null,
   "metadata": {},
   "outputs": [],
   "source": [
    "print(\"\\n2) cluster centers:\")\n",
    "print(kmeans_end.cluster_centers_)"
   ]
  },
  {
   "cell_type": "markdown",
   "metadata": {},
   "source": [
    "### Scatter Plot of Start + End Locations"
   ]
  },
  {
   "cell_type": "code",
   "execution_count": null,
   "metadata": {},
   "outputs": [],
   "source": [
    "fig = plt.figure(figsize=(10,6))\n",
    "ax = fig.add_subplot(1,1,1)\n",
    "ax.scatter(end_location_array[:,0], end_location_array[:,1]);"
   ]
  },
  {
   "cell_type": "code",
   "execution_count": null,
   "metadata": {},
   "outputs": [],
   "source": [
    "end_clusters = kmeans_end.cluster_centers_\n",
    "start_clusters = kmeans.cluster_centers_\n",
    "fig = plt.figure(figsize=(10,6))\n",
    "ax = fig.add_subplot(1,1,1)\n",
    "ax.scatter(start_location_array[:,0], start_location_array[:,1], color='g', alpha=0.7, s=20)\n",
    "ax.scatter(end_location_array[:,0], end_location_array[:,1], color='r', alpha=0.5, s=5)\n",
    "ax.scatter(end_clusters[:,0], end_clusters[:,1], color='m', alpha=0.7, s=50)\n",
    "ax.scatter(start_clusters[:,0], start_clusters[:,1], color='b', alpha=0.5, s=50);"
   ]
  },
  {
   "cell_type": "code",
   "execution_count": null,
   "metadata": {},
   "outputs": [],
   "source": [
    "end_clusters = kmeans_end.cluster_centers_\n",
    "start_clusters = kmeans.cluster_centers_\n",
    "\n",
    "fig = plt.figure(figsize=(10,6))\n",
    "ax = fig.add_subplot(1,1,1)\n",
    "ax.scatter(end_clusters[:,0], end_clusters[:,1], color='r', alpha=0.7, s=5)\n",
    "ax.scatter(start_clusters[:,0], start_clusters[:,1], color='g', alpha=0.5, s=20);"
   ]
  },
  {
   "cell_type": "markdown",
   "metadata": {},
   "source": [
    "### Look at Some Stats"
   ]
  },
  {
   "cell_type": "code",
   "execution_count": 8,
   "metadata": {},
   "outputs": [
    {
     "name": "stderr",
     "output_type": "stream",
     "text": [
      "/Users/sambuck92/opt/anaconda3/lib/python3.7/site-packages/sklearn/cluster/_kmeans.py:939: FutureWarning: 'n_jobs' was deprecated in version 0.23 and will be removed in 0.25.\n",
      "  \" removed in 0.25.\", FutureWarning)\n",
      "/Users/sambuck92/opt/anaconda3/lib/python3.7/site-packages/sklearn/cluster/_kmeans.py:939: FutureWarning: 'n_jobs' was deprecated in version 0.23 and will be removed in 0.25.\n",
      "  \" removed in 0.25.\", FutureWarning)\n",
      "/Users/sambuck92/opt/anaconda3/lib/python3.7/site-packages/sklearn/cluster/_kmeans.py:939: FutureWarning: 'n_jobs' was deprecated in version 0.23 and will be removed in 0.25.\n",
      "  \" removed in 0.25.\", FutureWarning)\n",
      "/Users/sambuck92/opt/anaconda3/lib/python3.7/site-packages/sklearn/cluster/_kmeans.py:939: FutureWarning: 'n_jobs' was deprecated in version 0.23 and will be removed in 0.25.\n",
      "  \" removed in 0.25.\", FutureWarning)\n",
      "/Users/sambuck92/opt/anaconda3/lib/python3.7/site-packages/sklearn/cluster/_kmeans.py:939: FutureWarning: 'n_jobs' was deprecated in version 0.23 and will be removed in 0.25.\n",
      "  \" removed in 0.25.\", FutureWarning)\n",
      "/Users/sambuck92/opt/anaconda3/lib/python3.7/site-packages/sklearn/cluster/_kmeans.py:939: FutureWarning: 'n_jobs' was deprecated in version 0.23 and will be removed in 0.25.\n",
      "  \" removed in 0.25.\", FutureWarning)\n",
      "/Users/sambuck92/opt/anaconda3/lib/python3.7/site-packages/sklearn/cluster/_kmeans.py:939: FutureWarning: 'n_jobs' was deprecated in version 0.23 and will be removed in 0.25.\n",
      "  \" removed in 0.25.\", FutureWarning)\n",
      "/Users/sambuck92/opt/anaconda3/lib/python3.7/site-packages/sklearn/cluster/_kmeans.py:939: FutureWarning: 'n_jobs' was deprecated in version 0.23 and will be removed in 0.25.\n",
      "  \" removed in 0.25.\", FutureWarning)\n",
      "/Users/sambuck92/opt/anaconda3/lib/python3.7/site-packages/sklearn/cluster/_kmeans.py:939: FutureWarning: 'n_jobs' was deprecated in version 0.23 and will be removed in 0.25.\n",
      "  \" removed in 0.25.\", FutureWarning)\n"
     ]
    },
    {
     "name": "stdout",
     "output_type": "stream",
     "text": [
      "#clust\trss\n",
      "1\t103\n",
      "2\t45\n",
      "3\t31\n",
      "4\t22\n",
      "5\t14\n",
      "6\t12\n",
      "7\t10\n",
      "8\t8\n",
      "9\t8\n"
     ]
    }
   ],
   "source": [
    "from sklearn.cluster import KMeans\n",
    "ncluster_list = range(1,10)\n",
    "\n",
    "def kmean_score(nclust):\n",
    "    km = KMeans(n_clusters = nclust, \n",
    "                init = 'random', \n",
    "                n_init = 10, \n",
    "                max_iter = 300, \n",
    "                n_jobs = -1) #look at hyperparameters\n",
    "    km.fit(start_location_array)\n",
    "    rss = -km.score(start_location_array)\n",
    "    return rss\n",
    "\n",
    "scores = [kmean_score(i) for i in range(1,10)]\n",
    "print(\"#clust\\trss\")\n",
    "for i, score in enumerate(scores):\n",
    "    print(\"{0}\\t{1:0.0f}\".format(ncluster_list[i],score))\n"
   ]
  },
  {
   "cell_type": "code",
   "execution_count": 9,
   "metadata": {},
   "outputs": [
    {
     "name": "stderr",
     "output_type": "stream",
     "text": [
      "/Users/sambuck92/opt/anaconda3/lib/python3.7/site-packages/sklearn/cluster/_kmeans.py:939: FutureWarning: 'n_jobs' was deprecated in version 0.23 and will be removed in 0.25.\n",
      "  \" removed in 0.25.\", FutureWarning)\n",
      "/Users/sambuck92/opt/anaconda3/lib/python3.7/site-packages/sklearn/cluster/_kmeans.py:939: FutureWarning: 'n_jobs' was deprecated in version 0.23 and will be removed in 0.25.\n",
      "  \" removed in 0.25.\", FutureWarning)\n",
      "/Users/sambuck92/opt/anaconda3/lib/python3.7/site-packages/sklearn/cluster/_kmeans.py:939: FutureWarning: 'n_jobs' was deprecated in version 0.23 and will be removed in 0.25.\n",
      "  \" removed in 0.25.\", FutureWarning)\n",
      "/Users/sambuck92/opt/anaconda3/lib/python3.7/site-packages/sklearn/cluster/_kmeans.py:939: FutureWarning: 'n_jobs' was deprecated in version 0.23 and will be removed in 0.25.\n",
      "  \" removed in 0.25.\", FutureWarning)\n",
      "/Users/sambuck92/opt/anaconda3/lib/python3.7/site-packages/sklearn/cluster/_kmeans.py:939: FutureWarning: 'n_jobs' was deprecated in version 0.23 and will be removed in 0.25.\n",
      "  \" removed in 0.25.\", FutureWarning)\n",
      "/Users/sambuck92/opt/anaconda3/lib/python3.7/site-packages/sklearn/cluster/_kmeans.py:939: FutureWarning: 'n_jobs' was deprecated in version 0.23 and will be removed in 0.25.\n",
      "  \" removed in 0.25.\", FutureWarning)\n",
      "/Users/sambuck92/opt/anaconda3/lib/python3.7/site-packages/sklearn/cluster/_kmeans.py:939: FutureWarning: 'n_jobs' was deprecated in version 0.23 and will be removed in 0.25.\n",
      "  \" removed in 0.25.\", FutureWarning)\n",
      "/Users/sambuck92/opt/anaconda3/lib/python3.7/site-packages/sklearn/cluster/_kmeans.py:939: FutureWarning: 'n_jobs' was deprecated in version 0.23 and will be removed in 0.25.\n",
      "  \" removed in 0.25.\", FutureWarning)\n",
      "/Users/sambuck92/opt/anaconda3/lib/python3.7/site-packages/sklearn/cluster/_kmeans.py:939: FutureWarning: 'n_jobs' was deprecated in version 0.23 and will be removed in 0.25.\n",
      "  \" removed in 0.25.\", FutureWarning)\n"
     ]
    },
    {
     "name": "stdout",
     "output_type": "stream",
     "text": [
      "#clust\trss\n",
      "1\t105\n",
      "2\t47\n",
      "3\t32\n",
      "4\t23\n",
      "5\t15\n",
      "6\t13\n",
      "7\t12\n",
      "8\t9\n",
      "9\t8\n"
     ]
    }
   ],
   "source": [
    "from sklearn.cluster import KMeans\n",
    "ncluster_list = range(1,10)\n",
    "\n",
    "def kmean_score(nclust):\n",
    "    km = KMeans(n_clusters = nclust, \n",
    "                init = 'random', \n",
    "                n_init = 10, \n",
    "                max_iter = 300, \n",
    "                n_jobs = -1) #look at hyperparameters\n",
    "    km.fit(end_location_array)\n",
    "    rss = -km.score(end_location_array)\n",
    "    return rss\n",
    "\n",
    "end_scores = [kmean_score(i) for i in range(1,10)]\n",
    "print(\"#clust\\trss\")\n",
    "for i, score in enumerate(end_scores):\n",
    "    print(\"{0}\\t{1:0.0f}\".format(ncluster_list[i],score))"
   ]
  },
  {
   "cell_type": "code",
   "execution_count": null,
   "metadata": {},
   "outputs": [],
   "source": [
    "fig = plt.figure(figsize=(10,6))\n",
    "ax = fig.add_subplot(1,1,1)\n",
    "ax.plot(range(1,10), scores, 'o--')\n",
    "ax.set_xlabel('K')\n",
    "ax.set_ylabel('RSS')\n",
    "ax.set_title('RSS versus K - Start Location');"
   ]
  },
  {
   "cell_type": "code",
   "execution_count": null,
   "metadata": {},
   "outputs": [],
   "source": [
    "fig = plt.figure(figsize=(10,6))\n",
    "ax = fig.add_subplot(1,1,1)\n",
    "ax.plot(range(1,10), end_scores, 'o--')\n",
    "ax.set_xlabel('K')\n",
    "ax.set_ylabel('RSS')\n",
    "ax.set_title('RSS versus K - End Location');"
   ]
  },
  {
   "cell_type": "code",
   "execution_count": 10,
   "metadata": {},
   "outputs": [],
   "source": [
    "from sklearn.metrics import silhouette_score\n",
    "\n"
   ]
  },
  {
   "cell_type": "code",
   "execution_count": null,
   "metadata": {},
   "outputs": [],
   "source": [
    "print(silhouette_score(start_location_array, kmeans.labels_))"
   ]
  },
  {
   "cell_type": "code",
   "execution_count": 11,
   "metadata": {},
   "outputs": [
    {
     "name": "stderr",
     "output_type": "stream",
     "text": [
      "/Users/sambuck92/opt/anaconda3/lib/python3.7/site-packages/sklearn/cluster/_kmeans.py:939: FutureWarning: 'n_jobs' was deprecated in version 0.23 and will be removed in 0.25.\n",
      "  \" removed in 0.25.\", FutureWarning)\n",
      "/Users/sambuck92/opt/anaconda3/lib/python3.7/site-packages/sklearn/cluster/_kmeans.py:939: FutureWarning: 'n_jobs' was deprecated in version 0.23 and will be removed in 0.25.\n",
      "  \" removed in 0.25.\", FutureWarning)\n",
      "/Users/sambuck92/opt/anaconda3/lib/python3.7/site-packages/sklearn/cluster/_kmeans.py:939: FutureWarning: 'n_jobs' was deprecated in version 0.23 and will be removed in 0.25.\n",
      "  \" removed in 0.25.\", FutureWarning)\n",
      "/Users/sambuck92/opt/anaconda3/lib/python3.7/site-packages/sklearn/cluster/_kmeans.py:939: FutureWarning: 'n_jobs' was deprecated in version 0.23 and will be removed in 0.25.\n",
      "  \" removed in 0.25.\", FutureWarning)\n",
      "/Users/sambuck92/opt/anaconda3/lib/python3.7/site-packages/sklearn/cluster/_kmeans.py:939: FutureWarning: 'n_jobs' was deprecated in version 0.23 and will be removed in 0.25.\n",
      "  \" removed in 0.25.\", FutureWarning)\n",
      "/Users/sambuck92/opt/anaconda3/lib/python3.7/site-packages/sklearn/cluster/_kmeans.py:939: FutureWarning: 'n_jobs' was deprecated in version 0.23 and will be removed in 0.25.\n",
      "  \" removed in 0.25.\", FutureWarning)\n",
      "/Users/sambuck92/opt/anaconda3/lib/python3.7/site-packages/sklearn/cluster/_kmeans.py:939: FutureWarning: 'n_jobs' was deprecated in version 0.23 and will be removed in 0.25.\n",
      "  \" removed in 0.25.\", FutureWarning)\n",
      "/Users/sambuck92/opt/anaconda3/lib/python3.7/site-packages/sklearn/cluster/_kmeans.py:939: FutureWarning: 'n_jobs' was deprecated in version 0.23 and will be removed in 0.25.\n",
      "  \" removed in 0.25.\", FutureWarning)\n",
      "/Users/sambuck92/opt/anaconda3/lib/python3.7/site-packages/sklearn/cluster/_kmeans.py:939: FutureWarning: 'n_jobs' was deprecated in version 0.23 and will be removed in 0.25.\n",
      "  \" removed in 0.25.\", FutureWarning)\n"
     ]
    },
    {
     "name": "stdout",
     "output_type": "stream",
     "text": [
      "0.552506752988244\n"
     ]
    }
   ],
   "source": [
    "def get_silhouette_score(nclust):\n",
    "    km = KMeans(n_clusters = nclust, \n",
    "                init = 'random', \n",
    "                n_init = 10, \n",
    "                max_iter = 100, \n",
    "                n_jobs = -1)\n",
    "    km.fit(start_location_array)\n",
    "    sil_avg = silhouette_score(start_location_array, km.labels_)\n",
    "    return sil_avg\n",
    "\n",
    "sil_scores = [get_silhouette_score(i) for i in range(2,10)]\n",
    "sil_scores\n",
    "print(get_silhouette_score(8))"
   ]
  },
  {
   "cell_type": "code",
   "execution_count": null,
   "metadata": {},
   "outputs": [],
   "source": [
    "fig = plt.figure(figsize=(10,6))\n",
    "ax = fig.add_subplot(1,1,1)\n",
    "ax.plot(range(2,10), sil_scores, 'o--', c = 'g')\n",
    "ax.set_xlabel('K')\n",
    "ax.set_ylabel('Silhouette Score')\n",
    "ax.set_title('Silhouette Score vs K - Origin Locations');"
   ]
  },
  {
   "cell_type": "code",
   "execution_count": 12,
   "metadata": {},
   "outputs": [
    {
     "name": "stderr",
     "output_type": "stream",
     "text": [
      "/Users/sambuck92/opt/anaconda3/lib/python3.7/site-packages/sklearn/cluster/_kmeans.py:939: FutureWarning: 'n_jobs' was deprecated in version 0.23 and will be removed in 0.25.\n",
      "  \" removed in 0.25.\", FutureWarning)\n",
      "/Users/sambuck92/opt/anaconda3/lib/python3.7/site-packages/sklearn/cluster/_kmeans.py:939: FutureWarning: 'n_jobs' was deprecated in version 0.23 and will be removed in 0.25.\n",
      "  \" removed in 0.25.\", FutureWarning)\n",
      "/Users/sambuck92/opt/anaconda3/lib/python3.7/site-packages/sklearn/cluster/_kmeans.py:939: FutureWarning: 'n_jobs' was deprecated in version 0.23 and will be removed in 0.25.\n",
      "  \" removed in 0.25.\", FutureWarning)\n",
      "/Users/sambuck92/opt/anaconda3/lib/python3.7/site-packages/sklearn/cluster/_kmeans.py:939: FutureWarning: 'n_jobs' was deprecated in version 0.23 and will be removed in 0.25.\n",
      "  \" removed in 0.25.\", FutureWarning)\n",
      "/Users/sambuck92/opt/anaconda3/lib/python3.7/site-packages/sklearn/cluster/_kmeans.py:939: FutureWarning: 'n_jobs' was deprecated in version 0.23 and will be removed in 0.25.\n",
      "  \" removed in 0.25.\", FutureWarning)\n",
      "/Users/sambuck92/opt/anaconda3/lib/python3.7/site-packages/sklearn/cluster/_kmeans.py:939: FutureWarning: 'n_jobs' was deprecated in version 0.23 and will be removed in 0.25.\n",
      "  \" removed in 0.25.\", FutureWarning)\n",
      "/Users/sambuck92/opt/anaconda3/lib/python3.7/site-packages/sklearn/cluster/_kmeans.py:939: FutureWarning: 'n_jobs' was deprecated in version 0.23 and will be removed in 0.25.\n",
      "  \" removed in 0.25.\", FutureWarning)\n",
      "/Users/sambuck92/opt/anaconda3/lib/python3.7/site-packages/sklearn/cluster/_kmeans.py:939: FutureWarning: 'n_jobs' was deprecated in version 0.23 and will be removed in 0.25.\n",
      "  \" removed in 0.25.\", FutureWarning)\n"
     ]
    },
    {
     "data": {
      "text/plain": [
       "[0.5140856331420266,\n",
       " 0.46031930959847367,\n",
       " 0.5016822180301803,\n",
       " 0.5181938621331463,\n",
       " 0.5205912697913045,\n",
       " 0.44142293508653424,\n",
       " 0.46207219297034297,\n",
       " 0.5389791781172998]"
      ]
     },
     "execution_count": 12,
     "metadata": {},
     "output_type": "execute_result"
    }
   ],
   "source": [
    "def get_silhouette_score(nclust):\n",
    "    km = KMeans(n_clusters = nclust, \n",
    "                init = 'random', \n",
    "                n_init = 10, \n",
    "                max_iter = 100, \n",
    "                n_jobs = -1)\n",
    "    km.fit(end_location_array)\n",
    "    sil_avg = silhouette_score(end_location_array, km.labels_)\n",
    "    return sil_avg\n",
    "\n",
    "end_sil_scores = [get_silhouette_score(i) for i in range(2,10)]\n",
    "end_sil_scores\n"
   ]
  },
  {
   "cell_type": "code",
   "execution_count": 14,
   "metadata": {},
   "outputs": [],
   "source": [
    "def silhouette_plot(ax, sil_score_lst, color, label, title):\n",
    "    ax.plot(range(2,10), sil_score_lst, 'o--', c = color, label=label)\n",
    "    ax.set_xlabel('K', fontsize=18)\n",
    "    ax.set_ylabel('Silhouette Score', fontsize=18)\n",
    "    ax.set_title(title, fontsize=20)\n",
    "    ax.legend()"
   ]
  },
  {
   "cell_type": "code",
   "execution_count": 17,
   "metadata": {},
   "outputs": [
    {
     "data": {
      "image/png": "[encoded data removed]",
      "text/plain": [
       "<Figure size 720x432 with 1 Axes>"
      ]
     },
     "metadata": {
      "needs_background": "light"
     },
     "output_type": "display_data"
    }
   ],
   "source": [
    "fig, ax = plt.subplots(figsize=(10,6))\n",
    "silhouette_plot(ax, sil_scores, 'b', 'Ride Origins', \n",
    "                    'Silhouette Score vs K - Scooter Rides')\n",
    "silhouette_plot(ax, end_sil_scores, 'm', 'Ride Destinations', \n",
    "                    'Silhouette Score vs K - Scooter Rides')\n",
    "plt.savefig('../images/origin_dest_sil_plot.svg', transparent=False, bbox_inches='tight', format='svg', dpi=1200)\n"
   ]
  },
  {
   "cell_type": "code",
   "execution_count": null,
   "metadata": {},
   "outputs": [],
   "source": [
    "fig = plt.figure(figsize=(10,6))\n",
    "ax = fig.add_subplot(1,1,1)\n",
    "ax.plot(range(2,10), end_sil_scores, 'o--', c = 'g')\n",
    "ax.set_xlabel('K')\n",
    "ax.set_ylabel('Silhouette Score')\n",
    "ax.set_title('Silhouette Score vs K - Destination Locations');"
   ]
  },
  {
   "cell_type": "code",
   "execution_count": null,
   "metadata": {},
   "outputs": [],
   "source": [
    "def get_silhouette_score(nclust):\n",
    "    km = KMeans(n_clusters = nclust, \n",
    "                init = 'random', \n",
    "                n_init = 10, \n",
    "                max_iter = 100, \n",
    "                n_jobs = -1)\n",
    "    km.fit(start_location_array)\n",
    "    sil_avg = silhouette_score(start_location_array, km.labels_)\n",
    "    return sil_avg\n",
    "\n",
    "sil_scores = [get_silhouette_score(i) for i in range(5,16)]\n",
    "sil_scores\n",
    "print(get_silhouette_score(8))"
   ]
  },
  {
   "cell_type": "code",
   "execution_count": null,
   "metadata": {},
   "outputs": [],
   "source": [
    "fig = plt.figure(figsize=(10,6))\n",
    "ax = fig.add_subplot(1,1,1)\n",
    "ax.plot(range(5,16), sil_scores, 'o--', c = 'g')\n",
    "ax.set_xlabel('K')\n",
    "ax.set_ylabel('Silhouette Score')\n",
    "ax.set_title('Silhouette Score vs K - Start Locations');"
   ]
  },
  {
   "cell_type": "code",
   "execution_count": 3,
   "metadata": {},
   "outputs": [],
   "source": [
    "from scipy.spatial.distance import pdist       # pair-wise distances\n",
    "from scipy.spatial.distance import squareform  # dist. vector to square dist. matrix\n",
    "from scipy.cluster.hierarchy import linkage    # how to define distances between clusters\n",
    "from scipy.cluster.hierarchy import dendrogram # display a dendrogram \n"
   ]
  },
  {
   "cell_type": "code",
   "execution_count": 19,
   "metadata": {},
   "outputs": [],
   "source": [
    "def hierarchical_cluster_model(dist_metric, link_method, array):\n",
    "    distmetric = dist_metric\n",
    "    linkmethod = link_method\n",
    "    dist = pdist(array, metric=distmetric)\n",
    "    clust = linkage(dist, method=linkmethod)\n",
    "    return clust\n",
    "\n",
    "def dendrogram_plot(cluster, ax, level_num, trunc_mode, color_thresh, title):\n",
    "    dendrogram(cluster, ax=ax, p=level_num, truncate_mode=trunc_mode,\n",
    "                color_threshold=color_thresh)\n",
    "    plt.xticks(fontsize=12)\n",
    "    plt.title(title, fontsize=24)"
   ]
  },
  {
   "cell_type": "code",
   "execution_count": 10,
   "metadata": {},
   "outputs": [
    {
     "data": {
      "text/plain": [
       "(1682493036,)"
      ]
     },
     "execution_count": 10,
     "metadata": {},
     "output_type": "execute_result"
    }
   ],
   "source": [
    "distmetric = 'euclidean' # 'euclidean','cityblock','cosine','hamming' are some options\n",
    "\n",
    "# Set linkage method\n",
    "# see scipy.cluster.hierarchy.linkage for options\n",
    "linkmethod = 'complete' # 'single', 'complete', 'average' are some options \n",
    "\n",
    "# Where would you like the clusters set?  In units of the dissimilarity metric.\n",
    "thresh = 3\n",
    "\n",
    "# Find distances using pair-wise distances in the array, according to desired metric\n",
    "#dist = squareform(pdist(X, metric = distmetric))  # old way, required squareform\n",
    "dist = pdist(start_location_array, metric = distmetric) # new way\n",
    "dist.shape"
   ]
  },
  {
   "cell_type": "code",
   "execution_count": 11,
   "metadata": {},
   "outputs": [
    {
     "data": {
      "text/plain": [
       "array([[0.00000000e+00, 4.00000000e+01, 0.00000000e+00, 2.00000000e+00],\n",
       "       [1.00000000e+00, 2.00000000e+00, 0.00000000e+00, 2.00000000e+00],\n",
       "       [3.00000000e+00, 5.80100000e+04, 0.00000000e+00, 3.00000000e+00],\n",
       "       ...,\n",
       "       [1.16007000e+05, 1.16010000e+05, 1.09632095e-01, 3.10500000e+04],\n",
       "       [1.16013000e+05, 1.16014000e+05, 1.42036522e-01, 5.08050000e+04],\n",
       "       [1.16012000e+05, 1.16015000e+05, 1.92096603e-01, 5.80090000e+04]])"
      ]
     },
     "execution_count": 11,
     "metadata": {},
     "output_type": "execute_result"
    }
   ],
   "source": [
    "\n",
    "# Deltermine clusters based on distances and linkage method\n",
    "clust = linkage(dist, method=linkmethod)\n",
    "clust"
   ]
  },
  {
   "cell_type": "code",
   "execution_count": null,
   "metadata": {},
   "outputs": [],
   "source": [
    "clust.shape"
   ]
  },
  {
   "cell_type": "code",
   "execution_count": 31,
   "metadata": {},
   "outputs": [
    {
     "data": {
      "image/png": "[encoded data removed]",
      "text/plain": [
       "<Figure size 1728x864 with 1 Axes>"
      ]
     },
     "metadata": {
      "needs_background": "light"
     },
     "output_type": "display_data"
    }
   ],
   "source": [
    "fig, ax = plt.subplots(figsize=(24, 12))\n",
    "dendrogram(clust, ax=ax, p=6, truncate_mode='level', color_threshold=0.074) #color threshold number sets the color change\n",
    "plt.xticks(fontsize=12)\n",
    "plt.title('Ride Origin Dendrogram with 8 Clusters', fontsize = 24);\n",
    "plt.savefig('../images/origin_dendrogram.svg', transparent=False, bbox_inches='tight', format='svg', dpi=1200)"
   ]
  },
  {
   "cell_type": "code",
   "execution_count": 13,
   "metadata": {},
   "outputs": [],
   "source": [
    "dest_hier_clust = hierarchical_cluster_model('euclidean', 'complete', end_location_array)"
   ]
  },
  {
   "cell_type": "code",
   "execution_count": 30,
   "metadata": {},
   "outputs": [
    {
     "data": {
      "image/png": "[encoded data removed]",
      "text/plain": [
       "<Figure size 1728x864 with 1 Axes>"
      ]
     },
     "metadata": {
      "needs_background": "light"
     },
     "output_type": "display_data"
    }
   ],
   "source": [
    "fig, ax = plt.subplots(figsize=(24, 12))\n",
    "dendrogram_plot(dest_hier_clust, ax, 6, 'level', 0.12, 'Ride Destination Dendrogram with 5 Clusters')\n",
    "plt.savefig('../images/dest_dendrogram.svg', transparent=False, bbox_inches='tight', format='svg', dpi=1200)\n"
   ]
  },
  {
   "cell_type": "code",
   "execution_count": null,
   "metadata": {},
   "outputs": [],
   "source": [
    "def coord_location_array(df, lat_col, long_col):\n",
    "    location_lst = df[[lat_col, long_col]]\n",
    "    array = location_lst.to_numpy()\n",
    "    return array\n",
    "\n",
    "def kmeans_model(array, n_clust=8):\n",
    "    kmeans = KMeans(n_clusters=n_clust)\n",
    "    kmeans.fit(array)\n",
    "    return kmeans\n"
   ]
  },
  {
   "cell_type": "code",
   "execution_count": null,
   "metadata": {},
   "outputs": [],
   "source": [
    "origin_array = coord_location_array(scooter_june_pride, \n",
    "                    'Start_Centroid_Latitude', 'Start_Centroid_Longitude')\n",
    "destination_array = coord_location_array(scooter_june_pride,\n",
    "                        'End_Centroid_Latitude', 'End_Centroid_Longitude')\n",
    "\n",
    "origin_kmeans = kmeans_model(origin_array)\n",
    "print('cluster centers:{}'.format(origin_kmeans.cluster_centers_)) \n",
    "dest_kmeans = kmeans_model(destination_array)\n",
    "print('cluster centers:{}'.format(dest_kmeans.cluster_centers_))"
   ]
  },
  {
   "cell_type": "code",
   "execution_count": null,
   "metadata": {},
   "outputs": [],
   "source": [
    "origin_array.shape"
   ]
  },
  {
   "cell_type": "code",
   "execution_count": null,
   "metadata": {},
   "outputs": [],
   "source": [
    "def get_silhouette_score(nclust, array):\n",
    "    kmeans = KMeans(n_clusters = nclust, \n",
    "                init = 'random', \n",
    "                n_init = 10, \n",
    "                max_iter = 100, \n",
    "                n_jobs = -1)\n",
    "    kmeans.fit(array)\n",
    "    sil_avg = silhouette_score(array, kmeans.labels_)\n",
    "    return sil_avg\n"
   ]
  },
  {
   "cell_type": "code",
   "execution_count": null,
   "metadata": {},
   "outputs": [],
   "source": [
    "origin_sil_scores = [get_silhouette_score(i, origin_array) for i in range(2,10)]\n"
   ]
  },
  {
   "cell_type": "code",
   "execution_count": null,
   "metadata": {},
   "outputs": [],
   "source": [
    "origin_sil_scores"
   ]
  },
  {
   "cell_type": "code",
   "execution_count": null,
   "metadata": {},
   "outputs": [],
   "source": [
    "dest_sil_scores = [get_silhouette_score(i, destination_array) for i in range(2,10)]\n",
    "dest_sil_scores"
   ]
  },
  {
   "cell_type": "code",
   "execution_count": null,
   "metadata": {},
   "outputs": [],
   "source": [
    "def silhouette_plot(ax, sil_score_lst, color, label, title):\n",
    "    ax.plot(range(2,10), sil_score_lst, 'o--', c = color, label=label)\n",
    "    ax.set_xlabel('K', fontsize=18)\n",
    "    ax.set_ylabel('Silhouette Score', fontsize=18)\n",
    "    ax.set_title(title, fontsize=20)\n",
    "    ax.legend()\n",
    "    \n",
    "def image_file(file):\n",
    "    return plt.savefig(file, transparent=False, bbox_inches='tight', format='svg', dpi=1200)"
   ]
  },
  {
   "cell_type": "code",
   "execution_count": null,
   "metadata": {},
   "outputs": [],
   "source": [
    "fig, ax = plt.subplots(figsize=(10,6))\n",
    "silhouette_plot(ax, origin_sil_scores, 'b', 'Ride Origins', \n",
    "                    'Silhouette Score vs K - Scooter Rides')\n",
    "silhouette_plot(ax, dest_sil_scores, 'm', 'Ride Destinations', \n",
    "                    'Silhouette Score vs K - Scooter Rides')\n",
    "\n",
    "image_file('../images/origin_dest_sil_plot.svg')"
   ]
  },
  {
   "cell_type": "code",
   "execution_count": null,
   "metadata": {},
   "outputs": [],
   "source": [
    "origin_kmeans = kmeans_model(origin_array, n_clust=8)\n",
    "print('cluster centers:{}'.format(origin_kmeans.cluster_centers_)) \n",
    "dest_kmeans = kmeans_model(destination_array, n_clust=5)\n",
    "print('cluster centers:{}'.format(dest_kmeans.cluster_centers_))"
   ]
  },
  {
   "cell_type": "code",
   "execution_count": null,
   "metadata": {},
   "outputs": [],
   "source": [
    "origin_clusters = origin_kmeans.cluster_centers_\n",
    "dest_clusters = dest_kmeans.cluster_centers_"
   ]
  },
  {
   "cell_type": "code",
   "execution_count": null,
   "metadata": {},
   "outputs": [],
   "source": [
    "origin_clust_df = pd.DataFrame(data=origin_clusters, columns=['lat', 'lon'])\n",
    "name = ['cluster ' + str(idx + 1) for idx in range(0, len(origin_clust_df))]\n",
    "origin_clust_df['name'] = name\n",
    "origin_clust_df\n"
   ]
  },
  {
   "cell_type": "code",
   "execution_count": null,
   "metadata": {},
   "outputs": [],
   "source": [
    "dest_clust_df = pd.DataFrame(data=dest_clusters, columns=['lat', 'lon'])\n",
    "name = ['cluster ' + str(idx + 1) for idx in range(0, len(dest_clust_df))]\n",
    "dest_clust_df['name'] = name\n",
    "dest_clust_df"
   ]
  },
  {
   "cell_type": "code",
   "execution_count": null,
   "metadata": {},
   "outputs": [],
   "source": []
  },
  {
   "cell_type": "code",
   "execution_count": null,
   "metadata": {},
   "outputs": [],
   "source": [
    "def kmeans_scatter_plot(ax, cluster_array, color, size, label, title):\n",
    "    ax.scatter(cluster_array[:,0], cluster_array[:,1], s=size, color=color, label=label)\n",
    "    ax.set_xlabel('Latitude', fontsize=16)\n",
    "    ax.set_ylabel('Longtitude', fontsize=16)\n",
    "    ax.set_title(title, fontsize=20)\n",
    "    ax.legend()"
   ]
  },
  {
   "cell_type": "code",
   "execution_count": 2,
   "metadata": {},
   "outputs": [],
   "source": [
    "import folium\n",
    "chicago_map = folium.Map(location=[41.88955765, -87.71819668], zoom_start=11)\n"
   ]
  },
  {
   "cell_type": "code",
   "execution_count": null,
   "metadata": {},
   "outputs": [],
   "source": [
    "for i, row in dest_clust_df.iterrows():\n",
    "    folium.Marker([row['lat'], row['lon']], popup=row['name'], color='b').add_to(chicago_map)\n",
    "    \n",
    "\n",
    "chicago_map"
   ]
  },
  {
   "cell_type": "code",
   "execution_count": null,
   "metadata": {},
   "outputs": [],
   "source": [
    "from folium.plugins import HeatMap\n",
    "heat_map = folium.FeatureGroup(name = 'heat_map')\n",
    "heat_map.add_child( HeatMap( list(zip(scooter_june_pride['End_Centroid_Latitude'].values,\n",
    "                                      scooter_june_pride['End_Centroid_Longitude'].values)),\n",
    "                            name='End Locations',\n",
    "                            max_val=float(60),\n",
    "                   min_opacity=0.2,\n",
    "                   radius=5.5, blur=3.5, \n",
    "                   max_zoom=1, \n",
    "                 ))\n",
    "chicago_map.add_child(heat_map)"
   ]
  },
  {
   "cell_type": "code",
   "execution_count": null,
   "metadata": {},
   "outputs": [],
   "source": [
    "fig, ax = plt.subplots(figsize=(10,6))\n",
    "kmeans_scatter_plot(ax, origin_clusters, 'b', 75, 'Cluster Centers', \n",
    "                    'Ride Origins & K-Means Model Cluster Centers')\n",
    "kmeans_scatter_plot(ax, origin_array, 'grey', 8, 'Rider Origins', \n",
    "                    'Ride Origins & K-Means Model Cluster Centers')\n"
   ]
  },
  {
   "cell_type": "code",
   "execution_count": null,
   "metadata": {},
   "outputs": [],
   "source": [
    "fig, ax = plt.subplots(figsize=(10,6))\n",
    "kmeans_scatter_plot(ax, dest_clusters, 'm', 75, 'Cluster Centers', \n",
    "                    'Ride Destinations & K-Means Model Cluster Centers')\n",
    "kmeans_scatter_plot(ax, destination_array, 'grey', 8, 'Rider Destinations', \n",
    "                    'Ride Destinations & K-Means Model Cluster Centers')"
   ]
  },
  {
   "cell_type": "code",
   "execution_count": null,
   "metadata": {},
   "outputs": [],
   "source": []
  }
 ],
 "metadata": {
  "kernelspec": {
   "display_name": "Python 3",
   "language": "python",
   "name": "python3"
  },
  "language_info": {
   "codemirror_mode": {
    "name": "ipython",
    "version": 3
   },
   "file_extension": ".py",
   "mimetype": "text/x-python",
   "name": "python",
   "nbconvert_exporter": "python",
   "pygments_lexer": "ipython3",
   "version": "3.7.7"
  }
 },
 "nbformat": 4,
 "nbformat_minor": 4
}
