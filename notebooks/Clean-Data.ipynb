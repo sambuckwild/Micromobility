{
 "cells": [
  {
   "cell_type": "markdown",
   "metadata": {},
   "source": [
    "# Notebook to Check/Clean Data"
   ]
  },
  {
   "cell_type": "code",
   "execution_count": 1,
   "metadata": {},
   "outputs": [],
   "source": [
    "import pandas as pd\n",
    "import numpy as np\n",
    "import matplotlib.pyplot as plt\n",
    "import seaborn as sns\n"
   ]
  },
  {
   "cell_type": "markdown",
   "metadata": {},
   "source": [
    "#### Scooter Data"
   ]
  },
  {
   "cell_type": "code",
   "execution_count": null,
   "metadata": {},
   "outputs": [],
   "source": [
    "scooter = pd.read_csv('../data/2019_Scooter_pilot.csv')"
   ]
  },
  {
   "cell_type": "code",
   "execution_count": null,
   "metadata": {},
   "outputs": [],
   "source": [
    "scooter.head()"
   ]
  },
  {
   "cell_type": "code",
   "execution_count": null,
   "metadata": {},
   "outputs": [],
   "source": [
    "scooter.info()"
   ]
  },
  {
   "cell_type": "code",
   "execution_count": null,
   "metadata": {},
   "outputs": [],
   "source": [
    "scooter.describe()"
   ]
  },
  {
   "cell_type": "markdown",
   "metadata": {},
   "source": [
    "1. drop useless columns - census ones, community ones\n",
    "2. drop NaNs or fill in? - i think drop as if we did average to fill in the mapping would be weird\n",
    "3. make dates into datetime so can parse them\n",
    "4. change column names"
   ]
  },
  {
   "cell_type": "code",
   "execution_count": null,
   "metadata": {},
   "outputs": [],
   "source": [
    "scooter.drop(columns=['Start Census Tract', 'End Census Tract'], inplace=True)\n",
    "scooter.dropna(inplace=True)\n",
    "scooter.columns = scooter.columns.str.replace(' ', '_')\n",
    "scooter['Start_Time'] = pd.to_datetime(scooter['Start_Time'])\n",
    "scooter['End_Time'] = pd.to_datetime(scooter['End_Time'])\n",
    "scooter.head()"
   ]
  },
  {
   "cell_type": "code",
   "execution_count": null,
   "metadata": {},
   "outputs": [],
   "source": [
    "scooter.info()"
   ]
  },
  {
   "cell_type": "markdown",
   "metadata": {},
   "source": [
    "4. check for trip distance or duration <= 0 as that makes no sense.."
   ]
  },
  {
   "cell_type": "code",
   "execution_count": null,
   "metadata": {},
   "outputs": [],
   "source": [
    "scooter = scooter[scooter.Trip_Duration > 0]\n",
    "scooter = scooter[scooter.Trip_Distance >0].reset_index(drop=True)\n",
    "#get rid of rides that had 0 distance and 0 duration or negative duration\n",
    "scooter.info()"
   ]
  },
  {
   "cell_type": "code",
   "execution_count": null,
   "metadata": {},
   "outputs": [],
   "source": [
    "# scooter['Trip_Duration'] = scooter['Trip_Duration'].apply(lambda x: x*2) #fix the duration to match google maps\n",
    "scooter['Trip_Distance'] = scooter['Trip_Distance'].apply(lambda x: x/1609) #fix distance and set to miles\n",
    "scooter.head()"
   ]
  },
  {
   "cell_type": "code",
   "execution_count": null,
   "metadata": {},
   "outputs": [],
   "source": [
    "scooter.describe()"
   ]
  },
  {
   "cell_type": "code",
   "execution_count": null,
   "metadata": {},
   "outputs": [],
   "source": [
    "long_trip = scooter.copy()\n",
    "long_trip = long_trip[long_trip.Trip_Distance <25].reset_index(drop=True) #no trips over 25 miles\n",
    "long_trip = long_trip[long_trip.Trip_Duration <57600].reset_index(drop=True) #no trips over 16 hours\n",
    "long_trip.info()\n",
    "long_trip.describe()"
   ]
  },
  {
   "cell_type": "code",
   "execution_count": null,
   "metadata": {},
   "outputs": [],
   "source": [
    "long_trip.sort_values(by='Trip_Duration', ascending=False)"
   ]
  },
  {
   "cell_type": "code",
   "execution_count": null,
   "metadata": {},
   "outputs": [],
   "source": [
    "long_trip['Trip_Distance'].hist(figsize=(14,12))\n",
    "plt.ylim(0,25000)\n",
    "plt.tight_layout();"
   ]
  },
  {
   "cell_type": "code",
   "execution_count": null,
   "metadata": {},
   "outputs": [],
   "source": [
    "long_trip.hist(figsize=(14,10))\n",
    "plt.tight_layout()"
   ]
  },
  {
   "cell_type": "code",
   "execution_count": null,
   "metadata": {},
   "outputs": [],
   "source": [
    "long_trip.to_csv('../data/clean_scooter.csv')"
   ]
  },
  {
   "cell_type": "markdown",
   "metadata": {},
   "source": [
    "### get smaller data set"
   ]
  },
  {
   "cell_type": "code",
   "execution_count": null,
   "metadata": {},
   "outputs": [],
   "source": [
    "scooter_small = pd.read_csv('../data/clean_scooter.csv')\n",
    "scooter_small.info()"
   ]
  },
  {
   "cell_type": "code",
   "execution_count": null,
   "metadata": {},
   "outputs": [],
   "source": [
    "scooter_small = scooter_small[scooter_small.Trip_Duration >120]#get rid of trips less than 2 minutes\n",
    "scooter_small = scooter_small[scooter_small.Trip_Duration <28800]#get rid of scooter trips over 8 hours\n"
   ]
  },
  {
   "cell_type": "code",
   "execution_count": null,
   "metadata": {},
   "outputs": [],
   "source": [
    "scooter_small['Start_Time'] = pd.to_datetime(scooter_small['Start_Time'])\n",
    "scooter_small['End_Time'] = pd.to_datetime(scooter_small['End_Time'])\n",
    "scooter_small.drop(columns=['Start_Community_Area_Number', 'End_Community_Area_Number', \n",
    "                            'Start_Community_Area_Name', 'End_Community_Area_Name', 'Unnamed: 0', \n",
    "                           'Start_Centroid_Location', 'End_Centroid_Location'], inplace=True)"
   ]
  },
  {
   "cell_type": "code",
   "execution_count": null,
   "metadata": {},
   "outputs": [],
   "source": [
    "scooter_small.info()"
   ]
  },
  {
   "cell_type": "code",
   "execution_count": null,
   "metadata": {},
   "outputs": [],
   "source": [
    "print(scooter_small.Start_Time.min(),\n",
    "scooter_small.Start_Time.max(),\n",
    "scooter_small.End_Time.min(),\n",
    "scooter_small.End_Time.max())"
   ]
  },
  {
   "cell_type": "code",
   "execution_count": null,
   "metadata": {},
   "outputs": [],
   "source": [
    "scooter_small = scooter_small[scooter_small.Start_Time > '2019-06-21']\n",
    "scooter_small = scooter_small[scooter_small.Start_Time <= '2019-06-30']\n",
    "scooter_small['Trip_Duration'] = scooter_small['Trip_Duration'].apply(lambda x: x/60) #fix time to minutes"
   ]
  },
  {
   "cell_type": "code",
   "execution_count": null,
   "metadata": {},
   "outputs": [],
   "source": [
    "scooter_small.describe()"
   ]
  },
  {
   "cell_type": "code",
   "execution_count": null,
   "metadata": {},
   "outputs": [],
   "source": [
    "scooter_small.to_csv('../data/small_scooter.csv')"
   ]
  },
  {
   "cell_type": "code",
   "execution_count": null,
   "metadata": {},
   "outputs": [],
   "source": []
  }
 ],
 "metadata": {
  "kernelspec": {
   "display_name": "Python 3",
   "language": "python",
   "name": "python3"
  },
  "language_info": {
   "codemirror_mode": {
    "name": "ipython",
    "version": 3
   },
   "file_extension": ".py",
   "mimetype": "text/x-python",
   "name": "python",
   "nbconvert_exporter": "python",
   "pygments_lexer": "ipython3",
   "version": "3.7.7"
  }
 },
 "nbformat": 4,
 "nbformat_minor": 4
}
